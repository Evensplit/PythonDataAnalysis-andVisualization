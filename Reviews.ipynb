{
 "cells": [
  {
   "cell_type": "markdown",
   "id": "32f705be",
   "metadata": {},
   "source": [
    "# 1.Overview of the data frame"
   ]
  },
  {
   "cell_type": "code",
   "execution_count": 1,
   "id": "ecfd2a40",
   "metadata": {},
   "outputs": [],
   "source": [
    "##\n",
    "import pandas\n",
    "\n",
    "data = pandas.read_csv(\"reviews.csv\")\n"
   ]
  },
  {
   "cell_type": "markdown",
   "id": "85d893c3",
   "metadata": {},
   "source": [
    "# 2. Selecting data from the data frame"
   ]
  },
  {
   "cell_type": "markdown",
   "id": "d742c41d",
   "metadata": {},
   "source": [
    "# Selecting a column"
   ]
  },
  {
   "cell_type": "code",
   "execution_count": 2,
   "id": "aa0865d7",
   "metadata": {
    "scrolled": false
   },
   "outputs": [
    {
     "data": {
      "text/plain": [
       "0        4.0\n",
       "1        4.0\n",
       "2        4.0\n",
       "3        5.0\n",
       "4        4.5\n",
       "        ... \n",
       "44995    4.0\n",
       "44996    5.0\n",
       "44997    5.0\n",
       "44998    5.0\n",
       "44999    5.0\n",
       "Name: Rating, Length: 45000, dtype: float64"
      ]
     },
     "execution_count": 2,
     "metadata": {},
     "output_type": "execute_result"
    }
   ],
   "source": [
    "data.columns\n",
    "data[\"Rating\"]"
   ]
  },
  {
   "cell_type": "markdown",
   "id": "aec98c85",
   "metadata": {},
   "source": [
    "# Selecting multiple columns"
   ]
  },
  {
   "cell_type": "code",
   "execution_count": 3,
   "id": "d3ae2ade",
   "metadata": {},
   "outputs": [
    {
     "data": {
      "text/html": [
       "<div>\n",
       "<style scoped>\n",
       "    .dataframe tbody tr th:only-of-type {\n",
       "        vertical-align: middle;\n",
       "    }\n",
       "\n",
       "    .dataframe tbody tr th {\n",
       "        vertical-align: top;\n",
       "    }\n",
       "\n",
       "    .dataframe thead th {\n",
       "        text-align: right;\n",
       "    }\n",
       "</style>\n",
       "<table border=\"1\" class=\"dataframe\">\n",
       "  <thead>\n",
       "    <tr style=\"text-align: right;\">\n",
       "      <th></th>\n",
       "      <th>Course Name</th>\n",
       "      <th>Rating</th>\n",
       "    </tr>\n",
       "  </thead>\n",
       "  <tbody>\n",
       "    <tr>\n",
       "      <th>0</th>\n",
       "      <td>The Python Mega Course: Build 10 Real World Ap...</td>\n",
       "      <td>4.0</td>\n",
       "    </tr>\n",
       "    <tr>\n",
       "      <th>1</th>\n",
       "      <td>The Python Mega Course: Build 10 Real World Ap...</td>\n",
       "      <td>4.0</td>\n",
       "    </tr>\n",
       "    <tr>\n",
       "      <th>2</th>\n",
       "      <td>The Python Mega Course: Build 10 Real World Ap...</td>\n",
       "      <td>4.0</td>\n",
       "    </tr>\n",
       "    <tr>\n",
       "      <th>3</th>\n",
       "      <td>The Python Mega Course: Build 10 Real World Ap...</td>\n",
       "      <td>5.0</td>\n",
       "    </tr>\n",
       "    <tr>\n",
       "      <th>4</th>\n",
       "      <td>The Python Mega Course: Build 10 Real World Ap...</td>\n",
       "      <td>4.5</td>\n",
       "    </tr>\n",
       "    <tr>\n",
       "      <th>...</th>\n",
       "      <td>...</td>\n",
       "      <td>...</td>\n",
       "    </tr>\n",
       "    <tr>\n",
       "      <th>44995</th>\n",
       "      <td>Python for Beginners with Examples</td>\n",
       "      <td>4.0</td>\n",
       "    </tr>\n",
       "    <tr>\n",
       "      <th>44996</th>\n",
       "      <td>The Python Mega Course: Build 10 Real World Ap...</td>\n",
       "      <td>5.0</td>\n",
       "    </tr>\n",
       "    <tr>\n",
       "      <th>44997</th>\n",
       "      <td>The Python Mega Course: Build 10 Real World Ap...</td>\n",
       "      <td>5.0</td>\n",
       "    </tr>\n",
       "    <tr>\n",
       "      <th>44998</th>\n",
       "      <td>Python for Beginners with Examples</td>\n",
       "      <td>5.0</td>\n",
       "    </tr>\n",
       "    <tr>\n",
       "      <th>44999</th>\n",
       "      <td>The Python Mega Course: Build 10 Real World Ap...</td>\n",
       "      <td>5.0</td>\n",
       "    </tr>\n",
       "  </tbody>\n",
       "</table>\n",
       "<p>45000 rows × 2 columns</p>\n",
       "</div>"
      ],
      "text/plain": [
       "                                             Course Name  Rating\n",
       "0      The Python Mega Course: Build 10 Real World Ap...     4.0\n",
       "1      The Python Mega Course: Build 10 Real World Ap...     4.0\n",
       "2      The Python Mega Course: Build 10 Real World Ap...     4.0\n",
       "3      The Python Mega Course: Build 10 Real World Ap...     5.0\n",
       "4      The Python Mega Course: Build 10 Real World Ap...     4.5\n",
       "...                                                  ...     ...\n",
       "44995                 Python for Beginners with Examples     4.0\n",
       "44996  The Python Mega Course: Build 10 Real World Ap...     5.0\n",
       "44997  The Python Mega Course: Build 10 Real World Ap...     5.0\n",
       "44998                 Python for Beginners with Examples     5.0\n",
       "44999  The Python Mega Course: Build 10 Real World Ap...     5.0\n",
       "\n",
       "[45000 rows x 2 columns]"
      ]
     },
     "execution_count": 3,
     "metadata": {},
     "output_type": "execute_result"
    }
   ],
   "source": [
    "data[['Course Name', 'Rating']]"
   ]
  },
  {
   "cell_type": "markdown",
   "id": "8c05519d",
   "metadata": {},
   "source": [
    "# Select a row"
   ]
  },
  {
   "cell_type": "code",
   "execution_count": 4,
   "id": "7f5bfc34",
   "metadata": {},
   "outputs": [
    {
     "data": {
      "text/plain": [
       "Course Name    The Python Mega Course: Build 10 Real World Ap...\n",
       "Timestamp                              2021-04-02 03:33:24+00:00\n",
       "Rating                                                       5.0\n",
       "Comment                                                      NaN\n",
       "Name: 3, dtype: object"
      ]
     },
     "execution_count": 4,
     "metadata": {},
     "output_type": "execute_result"
    }
   ],
   "source": [
    "#.iloc[] used to select row\n",
    "data.iloc[3]\n",
    "\n"
   ]
  },
  {
   "cell_type": "markdown",
   "id": "4e9698e3",
   "metadata": {},
   "source": [
    "# Selecting multiple rows"
   ]
  },
  {
   "cell_type": "code",
   "execution_count": 5,
   "id": "7409dc6f",
   "metadata": {},
   "outputs": [
    {
     "data": {
      "text/html": [
       "<div>\n",
       "<style scoped>\n",
       "    .dataframe tbody tr th:only-of-type {\n",
       "        vertical-align: middle;\n",
       "    }\n",
       "\n",
       "    .dataframe tbody tr th {\n",
       "        vertical-align: top;\n",
       "    }\n",
       "\n",
       "    .dataframe thead th {\n",
       "        text-align: right;\n",
       "    }\n",
       "</style>\n",
       "<table border=\"1\" class=\"dataframe\">\n",
       "  <thead>\n",
       "    <tr style=\"text-align: right;\">\n",
       "      <th></th>\n",
       "      <th>Course Name</th>\n",
       "      <th>Timestamp</th>\n",
       "      <th>Rating</th>\n",
       "      <th>Comment</th>\n",
       "    </tr>\n",
       "  </thead>\n",
       "  <tbody>\n",
       "    <tr>\n",
       "      <th>1</th>\n",
       "      <td>The Python Mega Course: Build 10 Real World Ap...</td>\n",
       "      <td>2021-04-02 05:12:34+00:00</td>\n",
       "      <td>4.0</td>\n",
       "      <td>NaN</td>\n",
       "    </tr>\n",
       "    <tr>\n",
       "      <th>2</th>\n",
       "      <td>The Python Mega Course: Build 10 Real World Ap...</td>\n",
       "      <td>2021-04-02 05:11:03+00:00</td>\n",
       "      <td>4.0</td>\n",
       "      <td>NaN</td>\n",
       "    </tr>\n",
       "  </tbody>\n",
       "</table>\n",
       "</div>"
      ],
      "text/plain": [
       "                                         Course Name  \\\n",
       "1  The Python Mega Course: Build 10 Real World Ap...   \n",
       "2  The Python Mega Course: Build 10 Real World Ap...   \n",
       "\n",
       "                   Timestamp  Rating Comment  \n",
       "1  2021-04-02 05:12:34+00:00     4.0     NaN  \n",
       "2  2021-04-02 05:11:03+00:00     4.0     NaN  "
      ]
     },
     "execution_count": 5,
     "metadata": {},
     "output_type": "execute_result"
    }
   ],
   "source": [
    "#data.iloc[enter:slice] to pick data from one index to another\n",
    "data.iloc[1:3] #this displays 1 and 2 index(s)  and [0,1,2,3,4.....]"
   ]
  },
  {
   "cell_type": "markdown",
   "id": "34363986",
   "metadata": {},
   "source": [
    "# Selecting a section"
   ]
  },
  {
   "cell_type": "code",
   "execution_count": 6,
   "id": "772f45dd",
   "metadata": {},
   "outputs": [
    {
     "data": {
      "text/html": [
       "<div>\n",
       "<style scoped>\n",
       "    .dataframe tbody tr th:only-of-type {\n",
       "        vertical-align: middle;\n",
       "    }\n",
       "\n",
       "    .dataframe tbody tr th {\n",
       "        vertical-align: top;\n",
       "    }\n",
       "\n",
       "    .dataframe thead th {\n",
       "        text-align: right;\n",
       "    }\n",
       "</style>\n",
       "<table border=\"1\" class=\"dataframe\">\n",
       "  <thead>\n",
       "    <tr style=\"text-align: right;\">\n",
       "      <th></th>\n",
       "      <th>Course Name</th>\n",
       "      <th>Rating</th>\n",
       "    </tr>\n",
       "  </thead>\n",
       "  <tbody>\n",
       "    <tr>\n",
       "      <th>1</th>\n",
       "      <td>The Python Mega Course: Build 10 Real World Ap...</td>\n",
       "      <td>4.0</td>\n",
       "    </tr>\n",
       "    <tr>\n",
       "      <th>2</th>\n",
       "      <td>The Python Mega Course: Build 10 Real World Ap...</td>\n",
       "      <td>4.0</td>\n",
       "    </tr>\n",
       "    <tr>\n",
       "      <th>3</th>\n",
       "      <td>The Python Mega Course: Build 10 Real World Ap...</td>\n",
       "      <td>5.0</td>\n",
       "    </tr>\n",
       "    <tr>\n",
       "      <th>4</th>\n",
       "      <td>The Python Mega Course: Build 10 Real World Ap...</td>\n",
       "      <td>4.5</td>\n",
       "    </tr>\n",
       "    <tr>\n",
       "      <th>5</th>\n",
       "      <td>The Python Mega Course: Build 10 Real World Ap...</td>\n",
       "      <td>4.5</td>\n",
       "    </tr>\n",
       "  </tbody>\n",
       "</table>\n",
       "</div>"
      ],
      "text/plain": [
       "                                         Course Name  Rating\n",
       "1  The Python Mega Course: Build 10 Real World Ap...     4.0\n",
       "2  The Python Mega Course: Build 10 Real World Ap...     4.0\n",
       "3  The Python Mega Course: Build 10 Real World Ap...     5.0\n",
       "4  The Python Mega Course: Build 10 Real World Ap...     4.5\n",
       "5  The Python Mega Course: Build 10 Real World Ap...     4.5"
      ]
     },
     "execution_count": 6,
     "metadata": {},
     "output_type": "execute_result"
    }
   ],
   "source": [
    "#add .iloc to data frame to select a section from the data frame(index 1 and 6)\n",
    "data[['Course Name', 'Rating']].iloc[1:6]"
   ]
  },
  {
   "cell_type": "markdown",
   "id": "5cd1e43c",
   "metadata": {},
   "source": [
    "# Selecting a cell"
   ]
  },
  {
   "cell_type": "code",
   "execution_count": 7,
   "id": "db57c027",
   "metadata": {},
   "outputs": [
    {
     "data": {
      "text/plain": [
       "'2021-04-02 03:33:24+00:00'"
      ]
     },
     "execution_count": 7,
     "metadata": {},
     "output_type": "execute_result"
    }
   ],
   "source": [
    "#use .iloc[]\n",
    "data[\"Timestamp\"].iloc[3]\n",
    "\n",
    "#or\n",
    "\n",
    "## \".at\" can use this to acheive same result\n",
    "data.at[3,'Timestamp']"
   ]
  },
  {
   "cell_type": "markdown",
   "id": "3847cd4e",
   "metadata": {},
   "source": [
    "# 3. Filtering data based on conditions"
   ]
  },
  {
   "cell_type": "code",
   "execution_count": 8,
   "id": "6ab60511",
   "metadata": {},
   "outputs": [
    {
     "data": {
      "text/html": [
       "<div>\n",
       "<style scoped>\n",
       "    .dataframe tbody tr th:only-of-type {\n",
       "        vertical-align: middle;\n",
       "    }\n",
       "\n",
       "    .dataframe tbody tr th {\n",
       "        vertical-align: top;\n",
       "    }\n",
       "\n",
       "    .dataframe thead th {\n",
       "        text-align: right;\n",
       "    }\n",
       "</style>\n",
       "<table border=\"1\" class=\"dataframe\">\n",
       "  <thead>\n",
       "    <tr style=\"text-align: right;\">\n",
       "      <th></th>\n",
       "      <th>Course Name</th>\n",
       "      <th>Timestamp</th>\n",
       "      <th>Rating</th>\n",
       "      <th>Comment</th>\n",
       "    </tr>\n",
       "  </thead>\n",
       "  <tbody>\n",
       "    <tr>\n",
       "      <th>3</th>\n",
       "      <td>The Python Mega Course: Build 10 Real World Ap...</td>\n",
       "      <td>2021-04-02 03:33:24+00:00</td>\n",
       "      <td>5.0</td>\n",
       "      <td>NaN</td>\n",
       "    </tr>\n",
       "    <tr>\n",
       "      <th>4</th>\n",
       "      <td>The Python Mega Course: Build 10 Real World Ap...</td>\n",
       "      <td>2021-04-02 03:31:49+00:00</td>\n",
       "      <td>4.5</td>\n",
       "      <td>NaN</td>\n",
       "    </tr>\n",
       "    <tr>\n",
       "      <th>5</th>\n",
       "      <td>The Python Mega Course: Build 10 Real World Ap...</td>\n",
       "      <td>2021-04-02 01:10:06+00:00</td>\n",
       "      <td>4.5</td>\n",
       "      <td>NaN</td>\n",
       "    </tr>\n",
       "    <tr>\n",
       "      <th>6</th>\n",
       "      <td>The Python Mega Course: Build 10 Real World Ap...</td>\n",
       "      <td>2021-04-02 00:44:54+00:00</td>\n",
       "      <td>4.5</td>\n",
       "      <td>NaN</td>\n",
       "    </tr>\n",
       "    <tr>\n",
       "      <th>7</th>\n",
       "      <td>The Python Mega Course: Build 10 Real World Ap...</td>\n",
       "      <td>2021-04-01 23:42:02+00:00</td>\n",
       "      <td>5.0</td>\n",
       "      <td>NaN</td>\n",
       "    </tr>\n",
       "    <tr>\n",
       "      <th>...</th>\n",
       "      <td>...</td>\n",
       "      <td>...</td>\n",
       "      <td>...</td>\n",
       "      <td>...</td>\n",
       "    </tr>\n",
       "    <tr>\n",
       "      <th>44994</th>\n",
       "      <td>The Python Mega Course: Build 10 Real World Ap...</td>\n",
       "      <td>2018-01-01 01:19:24+00:00</td>\n",
       "      <td>5.0</td>\n",
       "      <td>NaN</td>\n",
       "    </tr>\n",
       "    <tr>\n",
       "      <th>44996</th>\n",
       "      <td>The Python Mega Course: Build 10 Real World Ap...</td>\n",
       "      <td>2018-01-01 01:09:56+00:00</td>\n",
       "      <td>5.0</td>\n",
       "      <td>NaN</td>\n",
       "    </tr>\n",
       "    <tr>\n",
       "      <th>44997</th>\n",
       "      <td>The Python Mega Course: Build 10 Real World Ap...</td>\n",
       "      <td>2018-01-01 01:08:11+00:00</td>\n",
       "      <td>5.0</td>\n",
       "      <td>NaN</td>\n",
       "    </tr>\n",
       "    <tr>\n",
       "      <th>44998</th>\n",
       "      <td>Python for Beginners with Examples</td>\n",
       "      <td>2018-01-01 01:05:26+00:00</td>\n",
       "      <td>5.0</td>\n",
       "      <td>NaN</td>\n",
       "    </tr>\n",
       "    <tr>\n",
       "      <th>44999</th>\n",
       "      <td>The Python Mega Course: Build 10 Real World Ap...</td>\n",
       "      <td>2018-01-01 01:01:16+00:00</td>\n",
       "      <td>5.0</td>\n",
       "      <td>NaN</td>\n",
       "    </tr>\n",
       "  </tbody>\n",
       "</table>\n",
       "<p>29758 rows × 4 columns</p>\n",
       "</div>"
      ],
      "text/plain": [
       "                                             Course Name  \\\n",
       "3      The Python Mega Course: Build 10 Real World Ap...   \n",
       "4      The Python Mega Course: Build 10 Real World Ap...   \n",
       "5      The Python Mega Course: Build 10 Real World Ap...   \n",
       "6      The Python Mega Course: Build 10 Real World Ap...   \n",
       "7      The Python Mega Course: Build 10 Real World Ap...   \n",
       "...                                                  ...   \n",
       "44994  The Python Mega Course: Build 10 Real World Ap...   \n",
       "44996  The Python Mega Course: Build 10 Real World Ap...   \n",
       "44997  The Python Mega Course: Build 10 Real World Ap...   \n",
       "44998                 Python for Beginners with Examples   \n",
       "44999  The Python Mega Course: Build 10 Real World Ap...   \n",
       "\n",
       "                       Timestamp  Rating Comment  \n",
       "3      2021-04-02 03:33:24+00:00     5.0     NaN  \n",
       "4      2021-04-02 03:31:49+00:00     4.5     NaN  \n",
       "5      2021-04-02 01:10:06+00:00     4.5     NaN  \n",
       "6      2021-04-02 00:44:54+00:00     4.5     NaN  \n",
       "7      2021-04-01 23:42:02+00:00     5.0     NaN  \n",
       "...                          ...     ...     ...  \n",
       "44994  2018-01-01 01:19:24+00:00     5.0     NaN  \n",
       "44996  2018-01-01 01:09:56+00:00     5.0     NaN  \n",
       "44997  2018-01-01 01:08:11+00:00     5.0     NaN  \n",
       "44998  2018-01-01 01:05:26+00:00     5.0     NaN  \n",
       "44999  2018-01-01 01:01:16+00:00     5.0     NaN  \n",
       "\n",
       "[29758 rows x 4 columns]"
      ]
     },
     "execution_count": 8,
     "metadata": {},
     "output_type": "execute_result"
    }
   ],
   "source": [
    "data[data['Rating'] > 4]"
   ]
  },
  {
   "cell_type": "code",
   "execution_count": 9,
   "id": "5dbf0047",
   "metadata": {},
   "outputs": [
    {
     "data": {
      "text/plain": [
       "29758"
      ]
     },
     "execution_count": 9,
     "metadata": {},
     "output_type": "execute_result"
    }
   ],
   "source": [
    "#using len() function displays 29,758 users that rated the program 4.5 or above\n",
    "len(data[data['Rating'] >4])"
   ]
  },
  {
   "cell_type": "code",
   "execution_count": 10,
   "id": "eedf7905",
   "metadata": {},
   "outputs": [
    {
     "data": {
      "text/plain": [
       "Course Name    29758\n",
       "Timestamp      29758\n",
       "Rating         29758\n",
       "Comment         4927\n",
       "dtype: int64"
      ]
     },
     "execution_count": 10,
     "metadata": {},
     "output_type": "execute_result"
    }
   ],
   "source": [
    "#use of the .count() method\n",
    "data[data['Rating'] >4].count()"
   ]
  },
  {
   "cell_type": "code",
   "execution_count": 11,
   "id": "24a85aa6",
   "metadata": {},
   "outputs": [
    {
     "data": {
      "text/plain": [
       "4.87316015861281"
      ]
     },
     "execution_count": 11,
     "metadata": {},
     "output_type": "execute_result"
    }
   ],
   "source": [
    "\n",
    "\n",
    "d2 = data[data['Rating'] >4]\n",
    "d2['Rating'].mean()\n",
    "\n"
   ]
  },
  {
   "cell_type": "markdown",
   "id": "e57d057d",
   "metadata": {},
   "source": [
    "# filtering databases using multiple conditions"
   ]
  },
  {
   "cell_type": "code",
   "execution_count": 14,
   "id": "47f01194",
   "metadata": {},
   "outputs": [
    {
     "data": {
      "text/plain": [
       "4.908831908831909"
      ]
     },
     "execution_count": 14,
     "metadata": {},
     "output_type": "execute_result"
    }
   ],
   "source": [
    "data[(data['Rating'] >4 ) & (data['Course Name'] == 'The Complete Python Course: Build 10 Professional OOP Apps')]['Rating'].mean()"
   ]
  }
 ],
 "metadata": {
  "kernelspec": {
   "display_name": "Python 3 (ipykernel)",
   "language": "python",
   "name": "python3"
  },
  "language_info": {
   "codemirror_mode": {
    "name": "ipython",
    "version": 3
   },
   "file_extension": ".py",
   "mimetype": "text/x-python",
   "name": "python",
   "nbconvert_exporter": "python",
   "pygments_lexer": "ipython3",
   "version": "3.9.7"
  }
 },
 "nbformat": 4,
 "nbformat_minor": 5
}
